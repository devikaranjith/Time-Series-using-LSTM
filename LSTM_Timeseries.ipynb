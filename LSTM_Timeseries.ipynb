{
  "cells": [
    {
      "cell_type": "markdown",
      "source": [
        "## **LSTM for TimeSeries Forecasting**"
      ],
      "metadata": {
        "id": "czdpOC1bgoKx"
      },
      "id": "czdpOC1bgoKx"
    },
    {
      "cell_type": "code",
      "source": [
        "from google.colab import drive\n",
        "drive.mount('/content/drive')"
      ],
      "metadata": {
        "colab": {
          "base_uri": "https://localhost:8080/"
        },
        "id": "rIpJhrxSWPCZ",
        "outputId": "57775ec3-38ff-4fd3-a615-b47c59c3c1e7"
      },
      "id": "rIpJhrxSWPCZ",
      "execution_count": 19,
      "outputs": [
        {
          "output_type": "stream",
          "name": "stdout",
          "text": [
            "Drive already mounted at /content/drive; to attempt to forcibly remount, call drive.mount(\"/content/drive\", force_remount=True).\n"
          ]
        }
      ]
    },
    {
      "cell_type": "code",
      "execution_count": 20,
      "id": "ac8293e3",
      "metadata": {
        "id": "ac8293e3"
      },
      "outputs": [],
      "source": [
        "import pandas as pd\n",
        "import numpy as np\n",
        "import matplotlib.pyplot as plt\n",
        "%matplotlib inline\n",
        "import warnings\n",
        "warnings.filterwarnings('ignore')\n",
        "import tensorflow as tf\n",
        "from tensorflow.keras.preprocessing.sequence import TimeseriesGenerator\n",
        "from tensorflow.keras.models import Sequential\n",
        "from tensorflow.keras.layers import Dense\n",
        "from tensorflow.keras.layers import LSTM\n",
        "from sklearn.preprocessing import MinMaxScaler"
      ]
    },
    {
      "cell_type": "code",
      "execution_count": 21,
      "id": "e45fdb0c",
      "metadata": {
        "id": "e45fdb0c"
      },
      "outputs": [],
      "source": [
        "df=pd.read_csv('/content/drive/MyDrive/airline_passengers.csv',index_col='Month')"
      ]
    },
    {
      "cell_type": "code",
      "execution_count": 22,
      "id": "b82fe0b9",
      "metadata": {
        "colab": {
          "base_uri": "https://localhost:8080/",
          "height": 455
        },
        "id": "b82fe0b9",
        "outputId": "984fd645-d9d7-4c62-84f8-8cd12fb8bdf2"
      },
      "outputs": [
        {
          "output_type": "execute_result",
          "data": {
            "text/plain": [
              "         Thousands of Passengers\n",
              "Month                           \n",
              "1949-01                      112\n",
              "1949-02                      118\n",
              "1949-03                      132\n",
              "1949-04                      129\n",
              "1949-05                      121\n",
              "...                          ...\n",
              "1960-08                      606\n",
              "1960-09                      508\n",
              "1960-10                      461\n",
              "1960-11                      390\n",
              "1960-12                      432\n",
              "\n",
              "[144 rows x 1 columns]"
            ],
            "text/html": [
              "\n",
              "  <div id=\"df-c6992ac7-cc74-407f-9c0b-0e72c20c3705\">\n",
              "    <div class=\"colab-df-container\">\n",
              "      <div>\n",
              "<style scoped>\n",
              "    .dataframe tbody tr th:only-of-type {\n",
              "        vertical-align: middle;\n",
              "    }\n",
              "\n",
              "    .dataframe tbody tr th {\n",
              "        vertical-align: top;\n",
              "    }\n",
              "\n",
              "    .dataframe thead th {\n",
              "        text-align: right;\n",
              "    }\n",
              "</style>\n",
              "<table border=\"1\" class=\"dataframe\">\n",
              "  <thead>\n",
              "    <tr style=\"text-align: right;\">\n",
              "      <th></th>\n",
              "      <th>Thousands of Passengers</th>\n",
              "    </tr>\n",
              "    <tr>\n",
              "      <th>Month</th>\n",
              "      <th></th>\n",
              "    </tr>\n",
              "  </thead>\n",
              "  <tbody>\n",
              "    <tr>\n",
              "      <th>1949-01</th>\n",
              "      <td>112</td>\n",
              "    </tr>\n",
              "    <tr>\n",
              "      <th>1949-02</th>\n",
              "      <td>118</td>\n",
              "    </tr>\n",
              "    <tr>\n",
              "      <th>1949-03</th>\n",
              "      <td>132</td>\n",
              "    </tr>\n",
              "    <tr>\n",
              "      <th>1949-04</th>\n",
              "      <td>129</td>\n",
              "    </tr>\n",
              "    <tr>\n",
              "      <th>1949-05</th>\n",
              "      <td>121</td>\n",
              "    </tr>\n",
              "    <tr>\n",
              "      <th>...</th>\n",
              "      <td>...</td>\n",
              "    </tr>\n",
              "    <tr>\n",
              "      <th>1960-08</th>\n",
              "      <td>606</td>\n",
              "    </tr>\n",
              "    <tr>\n",
              "      <th>1960-09</th>\n",
              "      <td>508</td>\n",
              "    </tr>\n",
              "    <tr>\n",
              "      <th>1960-10</th>\n",
              "      <td>461</td>\n",
              "    </tr>\n",
              "    <tr>\n",
              "      <th>1960-11</th>\n",
              "      <td>390</td>\n",
              "    </tr>\n",
              "    <tr>\n",
              "      <th>1960-12</th>\n",
              "      <td>432</td>\n",
              "    </tr>\n",
              "  </tbody>\n",
              "</table>\n",
              "<p>144 rows × 1 columns</p>\n",
              "</div>\n",
              "      <button class=\"colab-df-convert\" onclick=\"convertToInteractive('df-c6992ac7-cc74-407f-9c0b-0e72c20c3705')\"\n",
              "              title=\"Convert this dataframe to an interactive table.\"\n",
              "              style=\"display:none;\">\n",
              "        \n",
              "  <svg xmlns=\"http://www.w3.org/2000/svg\" height=\"24px\"viewBox=\"0 0 24 24\"\n",
              "       width=\"24px\">\n",
              "    <path d=\"M0 0h24v24H0V0z\" fill=\"none\"/>\n",
              "    <path d=\"M18.56 5.44l.94 2.06.94-2.06 2.06-.94-2.06-.94-.94-2.06-.94 2.06-2.06.94zm-11 1L8.5 8.5l.94-2.06 2.06-.94-2.06-.94L8.5 2.5l-.94 2.06-2.06.94zm10 10l.94 2.06.94-2.06 2.06-.94-2.06-.94-.94-2.06-.94 2.06-2.06.94z\"/><path d=\"M17.41 7.96l-1.37-1.37c-.4-.4-.92-.59-1.43-.59-.52 0-1.04.2-1.43.59L10.3 9.45l-7.72 7.72c-.78.78-.78 2.05 0 2.83L4 21.41c.39.39.9.59 1.41.59.51 0 1.02-.2 1.41-.59l7.78-7.78 2.81-2.81c.8-.78.8-2.07 0-2.86zM5.41 20L4 18.59l7.72-7.72 1.47 1.35L5.41 20z\"/>\n",
              "  </svg>\n",
              "      </button>\n",
              "      \n",
              "  <style>\n",
              "    .colab-df-container {\n",
              "      display:flex;\n",
              "      flex-wrap:wrap;\n",
              "      gap: 12px;\n",
              "    }\n",
              "\n",
              "    .colab-df-convert {\n",
              "      background-color: #E8F0FE;\n",
              "      border: none;\n",
              "      border-radius: 50%;\n",
              "      cursor: pointer;\n",
              "      display: none;\n",
              "      fill: #1967D2;\n",
              "      height: 32px;\n",
              "      padding: 0 0 0 0;\n",
              "      width: 32px;\n",
              "    }\n",
              "\n",
              "    .colab-df-convert:hover {\n",
              "      background-color: #E2EBFA;\n",
              "      box-shadow: 0px 1px 2px rgba(60, 64, 67, 0.3), 0px 1px 3px 1px rgba(60, 64, 67, 0.15);\n",
              "      fill: #174EA6;\n",
              "    }\n",
              "\n",
              "    [theme=dark] .colab-df-convert {\n",
              "      background-color: #3B4455;\n",
              "      fill: #D2E3FC;\n",
              "    }\n",
              "\n",
              "    [theme=dark] .colab-df-convert:hover {\n",
              "      background-color: #434B5C;\n",
              "      box-shadow: 0px 1px 3px 1px rgba(0, 0, 0, 0.15);\n",
              "      filter: drop-shadow(0px 1px 2px rgba(0, 0, 0, 0.3));\n",
              "      fill: #FFFFFF;\n",
              "    }\n",
              "  </style>\n",
              "\n",
              "      <script>\n",
              "        const buttonEl =\n",
              "          document.querySelector('#df-c6992ac7-cc74-407f-9c0b-0e72c20c3705 button.colab-df-convert');\n",
              "        buttonEl.style.display =\n",
              "          google.colab.kernel.accessAllowed ? 'block' : 'none';\n",
              "\n",
              "        async function convertToInteractive(key) {\n",
              "          const element = document.querySelector('#df-c6992ac7-cc74-407f-9c0b-0e72c20c3705');\n",
              "          const dataTable =\n",
              "            await google.colab.kernel.invokeFunction('convertToInteractive',\n",
              "                                                     [key], {});\n",
              "          if (!dataTable) return;\n",
              "\n",
              "          const docLinkHtml = 'Like what you see? Visit the ' +\n",
              "            '<a target=\"_blank\" href=https://colab.research.google.com/notebooks/data_table.ipynb>data table notebook</a>'\n",
              "            + ' to learn more about interactive tables.';\n",
              "          element.innerHTML = '';\n",
              "          dataTable['output_type'] = 'display_data';\n",
              "          await google.colab.output.renderOutput(dataTable, element);\n",
              "          const docLink = document.createElement('div');\n",
              "          docLink.innerHTML = docLinkHtml;\n",
              "          element.appendChild(docLink);\n",
              "        }\n",
              "      </script>\n",
              "    </div>\n",
              "  </div>\n",
              "  "
            ]
          },
          "metadata": {},
          "execution_count": 22
        }
      ],
      "source": [
        "df"
      ]
    },
    {
      "cell_type": "code",
      "execution_count": 23,
      "id": "a0e1eabb",
      "metadata": {
        "colab": {
          "base_uri": "https://localhost:8080/"
        },
        "id": "a0e1eabb",
        "outputId": "10af7c74-8a70-487b-d31d-2510ac9e6b07"
      },
      "outputs": [
        {
          "output_type": "stream",
          "name": "stdout",
          "text": [
            "<class 'pandas.core.frame.DataFrame'>\n",
            "Index: 144 entries, 1949-01 to 1960-12\n",
            "Data columns (total 1 columns):\n",
            " #   Column                   Non-Null Count  Dtype\n",
            "---  ------                   --------------  -----\n",
            " 0   Thousands of Passengers  144 non-null    int64\n",
            "dtypes: int64(1)\n",
            "memory usage: 2.2+ KB\n"
          ]
        }
      ],
      "source": [
        "df.info()"
      ]
    },
    {
      "cell_type": "code",
      "execution_count": 24,
      "id": "6ea518a8",
      "metadata": {
        "id": "6ea518a8"
      },
      "outputs": [],
      "source": [
        "train=df[:132]\n",
        "test=df[132:]\n"
      ]
    },
    {
      "cell_type": "code",
      "execution_count": 25,
      "id": "5d8e74f4",
      "metadata": {
        "id": "5d8e74f4"
      },
      "outputs": [],
      "source": [
        "from sklearn.preprocessing import MinMaxScaler\n",
        "scaler= MinMaxScaler()\n",
        "scaled_train=scaler.fit_transform(train)\n",
        "scaled_test=scaler.transform(test)"
      ]
    },
    {
      "cell_type": "code",
      "execution_count": 26,
      "id": "e35ab335",
      "metadata": {
        "id": "e35ab335"
      },
      "outputs": [],
      "source": [
        "n_input=12\n",
        "n_features=1"
      ]
    },
    {
      "cell_type": "code",
      "execution_count": 27,
      "id": "16ee34ab",
      "metadata": {
        "id": "16ee34ab"
      },
      "outputs": [],
      "source": [
        "train_generator=TimeseriesGenerator(scaled_train,\n",
        "                                     scaled_train,\n",
        "                                      n_input,\n",
        "                                      batch_size=1)"
      ]
    },
    {
      "cell_type": "code",
      "execution_count": 28,
      "id": "657721f1",
      "metadata": {
        "id": "657721f1"
      },
      "outputs": [],
      "source": [
        "model=Sequential()\n",
        "model.add(LSTM(100,activation='relu',input_shape=(n_input,n_features),return_sequences=True))\n",
        "model.add(LSTM(50,activation='relu',return_sequences=True))\n",
        "model.add(LSTM(10,activation='relu'))\n",
        "model.add(Dense(1))"
      ]
    },
    {
      "cell_type": "code",
      "execution_count": 29,
      "id": "5b84e542",
      "metadata": {
        "colab": {
          "base_uri": "https://localhost:8080/"
        },
        "id": "5b84e542",
        "outputId": "0697260e-8ad7-45c8-8075-353d3bd8e8e3"
      },
      "outputs": [
        {
          "output_type": "stream",
          "name": "stdout",
          "text": [
            "Model: \"sequential_1\"\n",
            "_________________________________________________________________\n",
            " Layer (type)                Output Shape              Param #   \n",
            "=================================================================\n",
            " lstm_3 (LSTM)               (None, 12, 100)           40800     \n",
            "                                                                 \n",
            " lstm_4 (LSTM)               (None, 12, 50)            30200     \n",
            "                                                                 \n",
            " lstm_5 (LSTM)               (None, 10)                2440      \n",
            "                                                                 \n",
            " dense_1 (Dense)             (None, 1)                 11        \n",
            "                                                                 \n",
            "=================================================================\n",
            "Total params: 73,451\n",
            "Trainable params: 73,451\n",
            "Non-trainable params: 0\n",
            "_________________________________________________________________\n"
          ]
        }
      ],
      "source": [
        "model.compile(optimizer='adam',loss='mse')\n",
        "model.summary()"
      ]
    },
    {
      "cell_type": "code",
      "execution_count": 30,
      "id": "abd0f62c",
      "metadata": {
        "colab": {
          "base_uri": "https://localhost:8080/"
        },
        "id": "abd0f62c",
        "outputId": "38351cf0-94d2-4703-c871-c6b2e8e93f24"
      },
      "outputs": [
        {
          "output_type": "stream",
          "name": "stdout",
          "text": [
            "Epoch 1/20\n",
            "120/120 [==============================] - 5s 14ms/step - loss: 0.0274\n",
            "Epoch 2/20\n",
            "120/120 [==============================] - 2s 14ms/step - loss: 0.0130\n",
            "Epoch 3/20\n",
            "120/120 [==============================] - 2s 15ms/step - loss: 0.0137\n",
            "Epoch 4/20\n",
            "120/120 [==============================] - 2s 14ms/step - loss: 0.0106\n",
            "Epoch 5/20\n",
            "120/120 [==============================] - 2s 15ms/step - loss: 0.0098\n",
            "Epoch 6/20\n",
            "120/120 [==============================] - 2s 15ms/step - loss: 0.0101\n",
            "Epoch 7/20\n",
            "120/120 [==============================] - 2s 14ms/step - loss: 0.0113\n",
            "Epoch 8/20\n",
            "120/120 [==============================] - 2s 15ms/step - loss: 0.0083\n",
            "Epoch 9/20\n",
            "120/120 [==============================] - 2s 15ms/step - loss: 0.0078\n",
            "Epoch 10/20\n",
            "120/120 [==============================] - 2s 15ms/step - loss: 0.0074\n",
            "Epoch 11/20\n",
            "120/120 [==============================] - 2s 14ms/step - loss: 0.0059\n",
            "Epoch 12/20\n",
            "120/120 [==============================] - 2s 14ms/step - loss: 0.0052\n",
            "Epoch 13/20\n",
            "120/120 [==============================] - 2s 14ms/step - loss: 0.0104\n",
            "Epoch 14/20\n",
            "120/120 [==============================] - 2s 14ms/step - loss: 0.0060\n",
            "Epoch 15/20\n",
            "120/120 [==============================] - 2s 14ms/step - loss: 0.0050\n",
            "Epoch 16/20\n",
            "120/120 [==============================] - 2s 15ms/step - loss: 0.0048\n",
            "Epoch 17/20\n",
            "120/120 [==============================] - 2s 14ms/step - loss: 0.0040\n",
            "Epoch 18/20\n",
            "120/120 [==============================] - 2s 15ms/step - loss: 0.0041\n",
            "Epoch 19/20\n",
            "120/120 [==============================] - 2s 15ms/step - loss: 0.0033\n",
            "Epoch 20/20\n",
            "120/120 [==============================] - 2s 15ms/step - loss: 0.0035\n"
          ]
        },
        {
          "output_type": "execute_result",
          "data": {
            "text/plain": [
              "<keras.callbacks.History at 0x7fcc99e2bd90>"
            ]
          },
          "metadata": {},
          "execution_count": 30
        }
      ],
      "source": [
        "model.fit(train_generator,epochs=20)"
      ]
    },
    {
      "cell_type": "code",
      "execution_count": 31,
      "id": "e3ef7b9e",
      "metadata": {
        "colab": {
          "base_uri": "https://localhost:8080/"
        },
        "id": "e3ef7b9e",
        "outputId": "9a37446f-7ebf-4a52-9229-ed0e37e99bf6"
      },
      "outputs": [
        {
          "output_type": "stream",
          "name": "stdout",
          "text": [
            "1/1 [==============================] - 0s 404ms/step\n",
            "1/1 [==============================] - 0s 20ms/step\n",
            "1/1 [==============================] - 0s 20ms/step\n",
            "1/1 [==============================] - 0s 19ms/step\n",
            "1/1 [==============================] - 0s 30ms/step\n",
            "1/1 [==============================] - 0s 22ms/step\n",
            "1/1 [==============================] - 0s 21ms/step\n",
            "1/1 [==============================] - 0s 20ms/step\n",
            "1/1 [==============================] - 0s 19ms/step\n",
            "1/1 [==============================] - 0s 19ms/step\n",
            "1/1 [==============================] - 0s 19ms/step\n",
            "1/1 [==============================] - 0s 23ms/step\n"
          ]
        }
      ],
      "source": [
        "test_predictions = []\n",
        "first_eval_batch = scaled_train[-n_input:]\n",
        "current_batch = first_eval_batch.reshape((1, n_input, n_features))\n",
        "for i in range(len(test)):\n",
        "    pred = model.predict(current_batch)[0]\n",
        "    test_predictions.append(pred)\n",
        "    current_batch = np.append(current_batch[:,1:,:],[[pred]],axis=1)"
      ]
    },
    {
      "cell_type": "code",
      "execution_count": 32,
      "id": "49e6af4c",
      "metadata": {
        "colab": {
          "base_uri": "https://localhost:8080/"
        },
        "id": "49e6af4c",
        "outputId": "186e2d87-b52a-49c0-82fa-cc38092eece0"
      },
      "outputs": [
        {
          "output_type": "execute_result",
          "data": {
            "text/plain": [
              "[array([0.6109803], dtype=float32),\n",
              " array([0.63551384], dtype=float32),\n",
              " array([0.7143702], dtype=float32),\n",
              " array([0.7241414], dtype=float32),\n",
              " array([0.8086752], dtype=float32),\n",
              " array([0.94559747], dtype=float32),\n",
              " array([1.0415933], dtype=float32),\n",
              " array([0.9987711], dtype=float32),\n",
              " array([0.8169961], dtype=float32),\n",
              " array([0.69768524], dtype=float32),\n",
              " array([0.66487944], dtype=float32),\n",
              " array([0.70602703], dtype=float32)]"
            ]
          },
          "metadata": {},
          "execution_count": 32
        }
      ],
      "source": [
        "test_predictions"
      ]
    },
    {
      "cell_type": "code",
      "execution_count": 33,
      "id": "56d371c0",
      "metadata": {
        "colab": {
          "base_uri": "https://localhost:8080/"
        },
        "id": "56d371c0",
        "outputId": "317570f9-ecb8-484e-b525-092b76129173"
      },
      "outputs": [
        {
          "output_type": "execute_result",
          "data": {
            "text/plain": [
              "array([[381.99602389],\n",
              "       [393.15879816],\n",
              "       [429.03843695],\n",
              "       [433.48434561],\n",
              "       [471.94722944],\n",
              "       [534.24684876],\n",
              "       [577.92495751],\n",
              "       [558.4408375 ],\n",
              "       [475.73322439],\n",
              "       [421.44678497],\n",
              "       [406.52014577],\n",
              "       [425.24229908]])"
            ]
          },
          "metadata": {},
          "execution_count": 33
        }
      ],
      "source": [
        "actual_predictions = scaler.inverse_transform(test_predictions)\n",
        "actual_predictions"
      ]
    },
    {
      "cell_type": "code",
      "execution_count": 34,
      "id": "179689c6",
      "metadata": {
        "colab": {
          "base_uri": "https://localhost:8080/",
          "height": 497
        },
        "id": "179689c6",
        "outputId": "2627bdca-1ca2-4d18-efb2-fe6cb020e3c2"
      },
      "outputs": [
        {
          "output_type": "display_data",
          "data": {
            "text/plain": [
              "<Figure size 864x576 with 1 Axes>"
            ],
            "image/png": "[encoded data removed]"
          },
          "metadata": {
            "needs_background": "light"
          }
        }
      ],
      "source": [
        "test['Predictions'] = actual_predictions\n",
        "test.plot(figsize=(12,8));"
      ]
    }
  ],
  "metadata": {
    "kernelspec": {
      "display_name": "Python 3",
      "language": "python",
      "name": "python3"
    },
    "language_info": {
      "codemirror_mode": {
        "name": "ipython",
        "version": 3
      },
      "file_extension": ".py",
      "mimetype": "text/x-python",
      "name": "python",
      "nbconvert_exporter": "python",
      "pygments_lexer": "ipython3",
      "version": "3.9.11"
    },
    "colab": {
      "provenance": []
    }
  },
  "nbformat": 4,
  "nbformat_minor": 5
}